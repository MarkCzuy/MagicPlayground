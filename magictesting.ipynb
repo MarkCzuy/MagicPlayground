{
 "cells": [
  {
   "cell_type": "code",
   "execution_count": 1,
   "metadata": {
    "execution": {
     "iopub.execute_input": "2020-12-15T05:14:45.356992Z",
     "iopub.status.busy": "2020-12-15T05:14:45.356992Z",
     "iopub.status.idle": "2020-12-15T05:14:45.489999Z",
     "shell.execute_reply": "2020-12-15T05:14:45.489999Z",
     "shell.execute_reply.started": "2020-12-15T05:14:45.356992Z"
    }
   },
   "outputs": [],
   "source": [
    "import json\n",
    "from bs4 import BeautifulSoup\n",
    "from pprint import pprint\n",
    "import requests\n",
    "#full standard library\n",
    "#from Standard library\n",
    "#full 3rd Party\n",
    "#from 3rd Party\n",
    "#local/project full\n",
    "#local/Project from\n",
    "#dict1_keys = {k*2:v for (k,v) in dict1.items()}"
   ]
  },
  {
   "cell_type": "code",
   "execution_count": 2,
   "metadata": {
    "execution": {
     "iopub.execute_input": "2020-12-15T05:14:47.095091Z",
     "iopub.status.busy": "2020-12-15T05:14:47.094091Z",
     "iopub.status.idle": "2020-12-15T05:14:47.712126Z",
     "shell.execute_reply": "2020-12-15T05:14:47.712126Z",
     "shell.execute_reply.started": "2020-12-15T05:14:47.094091Z"
    }
   },
   "outputs": [],
   "source": [
    "response = requests.get(\"https://www.mtgtop8.com/search?format=LE&current_page=1\")\n",
    "soup = BeautifulSoup(response.content, \"html.parser\")\n",
    "tables = []\n",
    "for table in soup.find_all(\"table\"):\n",
    "    for subtable in table.find_all(\"table\"):\n",
    "           tables.append(subtable)"
   ]
  },
  {
   "cell_type": "raw",
   "metadata": {
    "execution": {
     "iopub.execute_input": "2020-12-14T15:04:49.423191Z",
     "iopub.status.busy": "2020-12-14T15:04:49.422191Z",
     "iopub.status.idle": "2020-12-14T15:04:50.381246Z",
     "shell.execute_reply": "2020-12-14T15:04:50.381246Z",
     "shell.execute_reply.started": "2020-12-14T15:04:49.423191Z"
    }
   },
   "source": [
    "Old target of scrape\n",
    "#https://www.mtgtop8.com/search?format=LE&current_page=1\n",
    "response = requests.get(\"https://www.mtgtop8.com/format?f=LE&meta=16&cp=1\")\n",
    "soup = BeautifulSoup(response.content, \"html.parser\")\n",
    "tables = []\n",
    "for table in soup.find_all(\"table\"):\n",
    "    for subtable in table.find_all(\"table\"):\n",
    "           tables.append(subtable)\n"
   ]
  },
  {
   "cell_type": "raw",
   "metadata": {
    "execution": {
     "iopub.execute_input": "2020-12-15T03:53:07.492850Z",
     "iopub.status.busy": "2020-12-15T03:53:07.491850Z",
     "iopub.status.idle": "2020-12-15T03:53:07.501850Z",
     "shell.execute_reply": "2020-12-15T03:53:07.501850Z",
     "shell.execute_reply.started": "2020-12-15T03:53:07.492850Z"
    }
   },
   "source": [
    "Target Exmple\n",
    "#tables[1]\n",
    "\"\"\"\n",
    "<tr class=\"hover_tr\">\n",
    "<td><input checked=\"\" name=\"deck_check[1]\" type=\"checkbox\" value=\"1\"/><input name=\"deck_ref[1]\" type=\"hidden\" value=\"425475\"/></td>\n",
    "<td class=\"S11\"><a href=\"event?e=28523&amp;d=425475&amp;f=LE\">Elves</a></td>\n",
    "<td class=\"G11\"><a class=\"player\" href=\"search?player=Wilson+Co\">Wilson Co</a></td>\n",
    "<td class=\"S10\"><a href=\"event?e=28523&amp;f=LE\">Kick Engines Discord @ Philippines</a></td>\n",
    "<td align=\"center\" class=\"O16\"><img src=\"/graph/star.png\"/></td>\n",
    "<td align=\"center\" class=\"S11\">1</td>\n",
    "<td class=\"S10\">13/12/20</td>\n",
    "</tr>\n",
    "\"\"\""
   ]
  },
  {
   "cell_type": "code",
   "execution_count": 3,
   "metadata": {
    "execution": {
     "iopub.execute_input": "2020-12-15T05:14:50.884308Z",
     "iopub.status.busy": "2020-12-15T05:14:50.884308Z",
     "iopub.status.idle": "2020-12-15T05:14:50.897308Z",
     "shell.execute_reply": "2020-12-15T05:14:50.897308Z",
     "shell.execute_reply.started": "2020-12-15T05:14:50.884308Z"
    }
   },
   "outputs": [],
   "source": [
    "hovers = []\n",
    "for hover in soup.find_all(class_ = \"hover_tr\"):\n",
    "    hovers.append(hover)"
   ]
  },
  {
   "cell_type": "code",
   "execution_count": 4,
   "metadata": {
    "execution": {
     "iopub.execute_input": "2020-12-15T05:14:52.607406Z",
     "iopub.status.busy": "2020-12-15T05:14:52.606406Z",
     "iopub.status.idle": "2020-12-15T05:14:52.616407Z",
     "shell.execute_reply": "2020-12-15T05:14:52.616407Z",
     "shell.execute_reply.started": "2020-12-15T05:14:52.607406Z"
    }
   },
   "outputs": [
    {
     "data": {
      "text/plain": [
       "'8 Crab Mill'"
      ]
     },
     "execution_count": 4,
     "metadata": {},
     "output_type": "execute_result"
    }
   ],
   "source": [
    "t = hovers[24].find_all(\"td\")\n",
    "t[1].text.strip()"
   ]
  },
  {
   "cell_type": "code",
   "execution_count": 5,
   "metadata": {
    "execution": {
     "iopub.execute_input": "2020-12-15T05:14:53.438454Z",
     "iopub.status.busy": "2020-12-15T05:14:53.438454Z",
     "iopub.status.idle": "2020-12-15T05:14:53.443454Z",
     "shell.execute_reply": "2020-12-15T05:14:53.442454Z",
     "shell.execute_reply.started": "2020-12-15T05:14:53.438454Z"
    }
   },
   "outputs": [
    {
     "data": {
      "text/plain": [
       "[<td><input checked=\"\" name=\"deck_check[25]\" type=\"checkbox\" value=\"1\"/><input name=\"deck_ref[25]\" type=\"hidden\" value=\"425397\"/></td>,\n",
       " <td class=\"S11\"><a href=\"event?e=28510&amp;d=425397&amp;f=LE\">8 Crab Mill \n",
       " </a></td>,\n",
       " <td class=\"G11\"><a class=\"player\" href=\"search?player=Mark+Ramirez\">Mark Ramirez</a></td>,\n",
       " <td class=\"S10\"><a href=\"event?e=28510&amp;f=LE\">Malphagor Discord League</a></td>,\n",
       " <td align=\"center\" class=\"O16\"><img src=\"/graph/star.png\"/></td>,\n",
       " <td align=\"center\" class=\"S11\">5-8</td>,\n",
       " <td class=\"S10\">12/12/20</td>]"
      ]
     },
     "execution_count": 5,
     "metadata": {},
     "output_type": "execute_result"
    }
   ],
   "source": [
    "t"
   ]
  },
  {
   "cell_type": "code",
   "execution_count": 6,
   "metadata": {
    "execution": {
     "iopub.execute_input": "2020-12-15T05:14:55.451569Z",
     "iopub.status.busy": "2020-12-15T05:14:55.451569Z",
     "iopub.status.idle": "2020-12-15T05:14:55.468570Z",
     "shell.execute_reply": "2020-12-15T05:14:55.468570Z",
     "shell.execute_reply.started": "2020-12-15T05:14:55.451569Z"
    }
   },
   "outputs": [],
   "source": [
    "entries = []\n",
    "for entry in soup.find_all(class_ = \"hover_tr\"):\n",
    "    column = entry.find_all(\"td\")\n",
    "    if t[4].find(\"img\")[\"src\"] == \"/graph/bigstar.png\":\n",
    "        tourny_size = 4\n",
    "    else:\n",
    "        tourny_size = len(column[4].find_all(\"img\"))\n",
    "    temp = {\n",
    "            \"id\" : column[0].find_all(\"input\")[1][\"value\"],\n",
    "            \"url\" : column[1].find(\"a\")[\"href\"],\n",
    "            \"archtype\" : column[1].text.strip(),\n",
    "            \"player\" : column[2].text.strip(),\n",
    "            \"event\" : column[3].text.strip(),\n",
    "            \"tournement_size\" : tourny_size,\n",
    "            \"place\" : column[5].text.strip(),\n",
    "            \"date\" : column[6].text.strip()\n",
    "\n",
    "            }\n",
    "    entries.append(temp)"
   ]
  },
  {
   "cell_type": "code",
   "execution_count": 7,
   "metadata": {
    "execution": {
     "iopub.execute_input": "2020-12-15T05:14:56.969656Z",
     "iopub.status.busy": "2020-12-15T05:14:56.969656Z",
     "iopub.status.idle": "2020-12-15T05:14:56.973656Z",
     "shell.execute_reply": "2020-12-15T05:14:56.973656Z",
     "shell.execute_reply.started": "2020-12-15T05:14:56.969656Z"
    }
   },
   "outputs": [
    {
     "data": {
      "text/plain": [
       "{'id': '425476',\n",
       " 'url': 'event?e=28523&d=425476&f=LE',\n",
       " 'archtype': 'Goblin Stompy',\n",
       " 'player': 'Ramon Marfil',\n",
       " 'event': 'Kick Engines Discord @ Philippines',\n",
       " 'size': 1,\n",
       " 'place': '2',\n",
       " 'date': '13/12/20'}"
      ]
     },
     "execution_count": 7,
     "metadata": {},
     "output_type": "execute_result"
    }
   ],
   "source": [
    "entries[1]"
   ]
  },
  {
   "cell_type": "code",
   "execution_count": 13,
   "metadata": {
    "execution": {
     "iopub.execute_input": "2020-12-15T05:29:50.567767Z",
     "iopub.status.busy": "2020-12-15T05:29:50.567767Z",
     "iopub.status.idle": "2020-12-15T05:29:50.573767Z",
     "shell.execute_reply": "2020-12-15T05:29:50.573767Z",
     "shell.execute_reply.started": "2020-12-15T05:29:50.567767Z"
    }
   },
   "outputs": [],
   "source": [
    "with open(\"test.json\", \"w\") as file:\n",
    "    for entry in entries:\n",
    "        json.dump(entry,file,indent=\"\\t\",sort_keys=True)\n",
    "        file.write('\\n')"
   ]
  },
  {
   "cell_type": "code",
   "execution_count": null,
   "metadata": {},
   "outputs": [],
   "source": []
  },
  {
   "cell_type": "code",
   "execution_count": null,
   "metadata": {},
   "outputs": [],
   "source": []
  },
  {
   "cell_type": "code",
   "execution_count": null,
   "metadata": {},
   "outputs": [],
   "source": []
  },
  {
   "cell_type": "code",
   "execution_count": 7,
   "metadata": {
    "execution": {
     "iopub.execute_input": "2020-12-14T15:04:54.315471Z",
     "iopub.status.busy": "2020-12-14T15:04:54.315471Z",
     "iopub.status.idle": "2020-12-14T15:04:54.318471Z",
     "shell.execute_reply": "2020-12-14T15:04:54.318471Z",
     "shell.execute_reply.started": "2020-12-14T15:04:54.315471Z"
    }
   },
   "outputs": [],
   "source": [
    "events = tables[2].find_all('a', href=True)"
   ]
  },
  {
   "cell_type": "code",
   "execution_count": 9,
   "metadata": {
    "execution": {
     "iopub.execute_input": "2020-12-14T15:08:50.334970Z",
     "iopub.status.busy": "2020-12-14T15:08:50.333970Z",
     "iopub.status.idle": "2020-12-14T15:08:50.337971Z",
     "shell.execute_reply": "2020-12-14T15:08:50.337971Z",
     "shell.execute_reply.started": "2020-12-14T15:08:50.334970Z"
    }
   },
   "outputs": [],
   "source": [
    "events_dict = [{\"url\": event['href'],\"name\": event.text} for event in events]"
   ]
  },
  {
   "cell_type": "code",
   "execution_count": 15,
   "metadata": {
    "execution": {
     "iopub.execute_input": "2020-12-14T15:13:30.649003Z",
     "iopub.status.busy": "2020-12-14T15:13:30.648003Z",
     "iopub.status.idle": "2020-12-14T15:13:30.659004Z",
     "shell.execute_reply": "2020-12-14T15:13:30.659004Z",
     "shell.execute_reply.started": "2020-12-14T15:13:30.649003Z"
    }
   },
   "outputs": [
    {
     "ename": "TypeError",
     "evalue": "unhashable type: 'dict'",
     "output_type": "error",
     "traceback": [
      "\u001b[1;31m---------------------------------------------------------------------------\u001b[0m",
      "\u001b[1;31mTypeError\u001b[0m                                 Traceback (most recent call last)",
      "\u001b[1;32m<ipython-input-15-af35e410d461>\u001b[0m in \u001b[0;36m<module>\u001b[1;34m\u001b[0m\n\u001b[1;32m----> 1\u001b[1;33m \u001b[0mMTGO_events_dict\u001b[0m \u001b[1;33m=\u001b[0m \u001b[1;33m{\u001b[0m\u001b[1;33m{\u001b[0m\u001b[1;34m\"url\"\u001b[0m\u001b[1;33m:\u001b[0m \u001b[0mevent\u001b[0m\u001b[1;33m[\u001b[0m\u001b[1;34m'href'\u001b[0m\u001b[1;33m]\u001b[0m\u001b[1;33m,\u001b[0m\u001b[1;34m\"name\"\u001b[0m\u001b[1;33m:\u001b[0m \u001b[0mevent\u001b[0m\u001b[1;33m.\u001b[0m\u001b[0mtext\u001b[0m\u001b[1;33m}\u001b[0m \u001b[1;32mfor\u001b[0m \u001b[0mevent\u001b[0m \u001b[1;32min\u001b[0m \u001b[0mevents\u001b[0m \u001b[1;32mif\u001b[0m \u001b[0mevent\u001b[0m\u001b[1;33m.\u001b[0m\u001b[0mtext\u001b[0m\u001b[1;33m.\u001b[0m\u001b[0mstartswith\u001b[0m\u001b[1;33m(\u001b[0m\u001b[1;34m\"MTGO\"\u001b[0m\u001b[1;33m)\u001b[0m\u001b[1;33m}\u001b[0m\u001b[1;33m\u001b[0m\u001b[1;33m\u001b[0m\u001b[0m\n\u001b[0m",
      "\u001b[1;32m<ipython-input-15-af35e410d461>\u001b[0m in \u001b[0;36m<setcomp>\u001b[1;34m(.0)\u001b[0m\n\u001b[1;32m----> 1\u001b[1;33m \u001b[0mMTGO_events_dict\u001b[0m \u001b[1;33m=\u001b[0m \u001b[1;33m{\u001b[0m\u001b[1;33m{\u001b[0m\u001b[1;34m\"url\"\u001b[0m\u001b[1;33m:\u001b[0m \u001b[0mevent\u001b[0m\u001b[1;33m[\u001b[0m\u001b[1;34m'href'\u001b[0m\u001b[1;33m]\u001b[0m\u001b[1;33m,\u001b[0m\u001b[1;34m\"name\"\u001b[0m\u001b[1;33m:\u001b[0m \u001b[0mevent\u001b[0m\u001b[1;33m.\u001b[0m\u001b[0mtext\u001b[0m\u001b[1;33m}\u001b[0m \u001b[1;32mfor\u001b[0m \u001b[0mevent\u001b[0m \u001b[1;32min\u001b[0m \u001b[0mevents\u001b[0m \u001b[1;32mif\u001b[0m \u001b[0mevent\u001b[0m\u001b[1;33m.\u001b[0m\u001b[0mtext\u001b[0m\u001b[1;33m.\u001b[0m\u001b[0mstartswith\u001b[0m\u001b[1;33m(\u001b[0m\u001b[1;34m\"MTGO\"\u001b[0m\u001b[1;33m)\u001b[0m\u001b[1;33m}\u001b[0m\u001b[1;33m\u001b[0m\u001b[1;33m\u001b[0m\u001b[0m\n\u001b[0m",
      "\u001b[1;31mTypeError\u001b[0m: unhashable type: 'dict'"
     ]
    }
   ],
   "source": [
    "MTGO_events_dict = [{\"url\": event['href'],\"name\": event.text} for event in events if event.text.startswith(\"MTGO\")]"
   ]
  },
  {
   "cell_type": "code",
   "execution_count": 14,
   "metadata": {
    "execution": {
     "iopub.execute_input": "2020-12-14T15:12:05.997162Z",
     "iopub.status.busy": "2020-12-14T15:12:05.997162Z",
     "iopub.status.idle": "2020-12-14T15:12:06.001162Z",
     "shell.execute_reply": "2020-12-14T15:12:06.001162Z",
     "shell.execute_reply.started": "2020-12-14T15:12:05.997162Z"
    }
   },
   "outputs": [
    {
     "data": {
      "text/plain": [
       "[{'url': 'event?e=28512&f=LE', 'name': 'MTGO Legacy Challenge'},\n",
       " {'url': 'event?e=28523&f=LE', 'name': 'Kick Engines Discord @ Philippines'},\n",
       " {'url': 'event?e=28498&f=LE', 'name': 'MTGO Legacy League'},\n",
       " {'url': 'event?e=28510&f=LE', 'name': 'Malphagor Discord League'},\n",
       " {'url': 'event?e=28516&f=LE',\n",
       "  'name': 'Discord Tournament @ MTG Paper Legacy'},\n",
       " {'url': 'event?e=28521&f=LE', 'name': 'Open Blackout @ Itajaí (Brasil)'},\n",
       " {'url': 'event?e=28477&f=LE', 'name': 'MTGO Legacy Preliminary'},\n",
       " {'url': 'event?e=28475&f=LE', 'name': 'Community League 10.10 @ Gatherling'},\n",
       " {'url': 'event?e=28468&f=LE', 'name': 'MTGO Legacy Preliminary'},\n",
       " {'url': 'event?e=28424&f=LE', 'name': 'MTGO Legacy Challenge'}]"
      ]
     },
     "execution_count": 14,
     "metadata": {},
     "output_type": "execute_result"
    }
   ],
   "source": [
    "events_dict"
   ]
  },
  {
   "cell_type": "code",
   "execution_count": 13,
   "metadata": {
    "execution": {
     "iopub.execute_input": "2020-12-14T15:11:59.039764Z",
     "iopub.status.busy": "2020-12-14T15:11:59.038764Z",
     "iopub.status.idle": "2020-12-14T15:11:59.049764Z",
     "shell.execute_reply": "2020-12-14T15:11:59.049764Z",
     "shell.execute_reply.started": "2020-12-14T15:11:59.039764Z"
    }
   },
   "outputs": [
    {
     "data": {
      "text/plain": [
       "[{'url': 'event?e=28512&f=LE', 'name': 'MTGO Legacy Challenge'},\n",
       " {'url': 'event?e=28498&f=LE', 'name': 'MTGO Legacy League'},\n",
       " {'url': 'event?e=28477&f=LE', 'name': 'MTGO Legacy Preliminary'},\n",
       " {'url': 'event?e=28468&f=LE', 'name': 'MTGO Legacy Preliminary'},\n",
       " {'url': 'event?e=28424&f=LE', 'name': 'MTGO Legacy Challenge'}]"
      ]
     },
     "execution_count": 13,
     "metadata": {},
     "output_type": "execute_result"
    }
   ],
   "source": [
    "MTGO_events_dict"
   ]
  },
  {
   "cell_type": "code",
   "execution_count": null,
   "metadata": {},
   "outputs": [],
   "source": [
    "https://www.mtgtop8.com/event?e=28523&f=LE"
   ]
  },
  {
   "cell_type": "code",
   "execution_count": 8,
   "metadata": {
    "execution": {
     "iopub.execute_input": "2020-12-14T15:04:55.620545Z",
     "iopub.status.busy": "2020-12-14T15:04:55.620545Z",
     "iopub.status.idle": "2020-12-14T15:04:55.625546Z",
     "shell.execute_reply": "2020-12-14T15:04:55.623546Z",
     "shell.execute_reply.started": "2020-12-14T15:04:55.620545Z"
    }
   },
   "outputs": [
    {
     "name": "stdout",
     "output_type": "stream",
     "text": [
      "event?e=28512&f=LE\n",
      "MTGO Legacy Challenge\n",
      "event?e=28523&f=LE\n",
      "Kick Engines Discord @ Philippines\n",
      "event?e=28498&f=LE\n",
      "MTGO Legacy League\n",
      "event?e=28510&f=LE\n",
      "Malphagor Discord League\n",
      "event?e=28516&f=LE\n",
      "Discord Tournament @ MTG Paper Legacy\n",
      "event?e=28521&f=LE\n",
      "Open Blackout @ Itajaí (Brasil)\n",
      "event?e=28477&f=LE\n",
      "MTGO Legacy Preliminary\n",
      "event?e=28475&f=LE\n",
      "Community League 10.10 @ Gatherling\n",
      "event?e=28468&f=LE\n",
      "MTGO Legacy Preliminary\n",
      "event?e=28424&f=LE\n",
      "MTGO Legacy Challenge\n"
     ]
    }
   ],
   "source": [
    "for event in events:\n",
    "    url = event[\"href\"]\n",
    "    print(url)\n",
    "    print(event.text)"
   ]
  },
  {
   "cell_type": "code",
   "execution_count": 24,
   "metadata": {
    "execution": {
     "iopub.execute_input": "2020-12-14T14:45:38.088338Z",
     "iopub.status.busy": "2020-12-14T14:45:38.087338Z",
     "iopub.status.idle": "2020-12-14T14:45:38.091339Z",
     "shell.execute_reply": "2020-12-14T14:45:38.091339Z",
     "shell.execute_reply.started": "2020-12-14T14:45:38.088338Z"
    }
   },
   "outputs": [
    {
     "data": {
      "text/plain": [
       "bs4.element.Tag"
      ]
     },
     "execution_count": 24,
     "metadata": {},
     "output_type": "execute_result"
    }
   ],
   "source": [
    "events[1].__class__"
   ]
  },
  {
   "cell_type": "code",
   "execution_count": null,
   "metadata": {},
   "outputs": [],
   "source": []
  },
  {
   "cell_type": "code",
   "execution_count": 20,
   "metadata": {
    "execution": {
     "iopub.execute_input": "2020-12-14T14:43:54.725426Z",
     "iopub.status.busy": "2020-12-14T14:43:54.725426Z",
     "iopub.status.idle": "2020-12-14T14:43:54.729427Z",
     "shell.execute_reply": "2020-12-14T14:43:54.729427Z",
     "shell.execute_reply.started": "2020-12-14T14:43:54.725426Z"
    }
   },
   "outputs": [
    {
     "data": {
      "text/plain": [
       "str"
      ]
     },
     "execution_count": 20,
     "metadata": {},
     "output_type": "execute_result"
    }
   ],
   "source": [
    "events[1].getText().__class__"
   ]
  },
  {
   "cell_type": "code",
   "execution_count": 21,
   "metadata": {
    "execution": {
     "iopub.execute_input": "2020-12-14T14:43:58.695654Z",
     "iopub.status.busy": "2020-12-14T14:43:58.694653Z",
     "iopub.status.idle": "2020-12-14T14:43:58.698654Z",
     "shell.execute_reply": "2020-12-14T14:43:58.698654Z",
     "shell.execute_reply.started": "2020-12-14T14:43:58.694653Z"
    }
   },
   "outputs": [
    {
     "data": {
      "text/plain": [
       "str"
      ]
     },
     "execution_count": 21,
     "metadata": {},
     "output_type": "execute_result"
    }
   ],
   "source": [
    "events[1].get_text().__class__"
   ]
  },
  {
   "cell_type": "code",
   "execution_count": 23,
   "metadata": {
    "execution": {
     "iopub.execute_input": "2020-12-14T14:44:22.930040Z",
     "iopub.status.busy": "2020-12-14T14:44:22.930040Z",
     "iopub.status.idle": "2020-12-14T14:44:22.933040Z",
     "shell.execute_reply": "2020-12-14T14:44:22.933040Z",
     "shell.execute_reply.started": "2020-12-14T14:44:22.930040Z"
    }
   },
   "outputs": [
    {
     "data": {
      "text/plain": [
       "'The Last Sun 2020 @ Hareruya (Akihabara, Japan)'"
      ]
     },
     "execution_count": 23,
     "metadata": {},
     "output_type": "execute_result"
    }
   ],
   "source": [
    "events[1].text"
   ]
  },
  {
   "cell_type": "code",
   "execution_count": 6,
   "metadata": {
    "execution": {
     "iopub.execute_input": "2020-12-07T21:34:07.128151Z",
     "iopub.status.busy": "2020-12-07T21:34:07.128151Z",
     "iopub.status.idle": "2020-12-07T21:34:07.141151Z",
     "shell.execute_reply": "2020-12-07T21:34:07.140151Z",
     "shell.execute_reply.started": "2020-12-07T21:34:07.128151Z"
    }
   },
   "outputs": [
    {
     "data": {
      "text/plain": [
       "[<a href=\"https://www.mtgtop8.com/format_limited\"><img id=\"menu_limited\" onmouseout=\"this.src='/graph/menu2/limited.png'\" onmouseover=\"this.src='/graph/menu2/limited_h.png'\" src=\"/graph/menu2/limited.png\" style=\"height:17px;\"/></a>,\n",
       " <a href=\"https://www.mtgtop8.com/format?f=PAU\"><img id=\"menu_pauper\" onmouseout=\"this.src='/graph/menu2/pauper.png'\" onmouseover=\"this.src='/graph/menu2/pauper_h.png'\" src=\"/graph/menu2/pauper.png\" style=\"height:17px;\"/></a>,\n",
       " <a href=\"https://www.mtgtop8.com/format?f=PEA\"><img id=\"menu_peasant\" onmouseout=\"this.src='/graph/menu2/peasant.png'\" onmouseover=\"this.src='/graph/menu2/peasant_h.png'\" src=\"/graph/menu2/peasant.png\" style=\"height:17px;\"/></a>,\n",
       " <a href=\"https://www.mtgtop8.com/format?f=BL\"><img id=\"menu_block\" onmouseout=\"this.src='/graph/menu2/block.png'\" onmouseover=\"this.src='/graph/menu2/block_h.png'\" src=\"/graph/menu2/block.png\" style=\"height:17px;\"/></a>,\n",
       " <a href=\"https://www.mtgtop8.com/format?f=EX\"><img id=\"menu_extended\" onmouseout=\"this.src='/graph/menu2/extended.png'\" onmouseover=\"this.src='/graph/menu2/extended_h.png'\" src=\"/graph/menu2/extended.png\" style=\"height:17px;\"/></a>,\n",
       " <a href=\"https://www.mtgtop8.com/format?f=HIGH\"><img id=\"menu_highlander\" onmouseout=\"this.src='/graph/menu2/highlander.png'\" onmouseover=\"this.src='/graph/menu2/highlander_h.png'\" src=\"/graph/menu2/highlander.png\" style=\"height:17px;\"/></a>,\n",
       " <a href=\"https://www.mtgtop8.com/format?f=CHL\"><img id=\"menu_canadian_highlander\" onmouseout=\"this.src='/graph/menu2/canadian_highlander.png'\" onmouseover=\"this.src='/graph/menu2/canadian_highlander_h.png'\" src=\"/graph/menu2/canadian_highlander.png\" style=\"height:29px;\"/></a>,\n",
       " <a href=\"https://www.mtgtop8.com/index\"><img border=\"0\" src=\"https://www.mtgtop8.com/graph/title.png\"/></a>,\n",
       " <a href=\"https://www.mtgtop8.com/format?f=VI\"><img id=\"menu_vintage\" onmouseout=\"this.src='/graph/menu2/vintage.png'\" onmouseover=\"this.src='/graph/menu2/vintage_h.png'\" src=\"/graph/menu2/vintage.png\" style=\"height:17px;\"/></a>,\n",
       " <a href=\"https://www.mtgtop8.com/format?f=LE\"><img src=\"graph/menu2/legacy_c.png\" style=\"height:17px;\"/></a>,\n",
       " <a href=\"https://www.mtgtop8.com/format?f=MO\"><img id=\"menu_modern\" onmouseout=\"this.src='/graph/menu2/modern.png'\" onmouseover=\"this.src='/graph/menu2/modern_h.png'\" src=\"/graph/menu2/modern.png\" style=\"height:17px;\"/></a>,\n",
       " <a href=\"https://www.mtgtop8.com/format?f=PI\"><img id=\"menu_pioneer\" onmouseout=\"this.src='/graph/menu2/pioneer.png'\" onmouseover=\"this.src='/graph/menu2/pioneer_h.png'\" src=\"/graph/menu2/pioneer.png\" style=\"height:17px;\"/></a>,\n",
       " <a href=\"https://www.mtgtop8.com/format?f=HI\"><img id=\"menu_historic\" onmouseout=\"this.src='/graph/menu2/historic.png'\" onmouseover=\"this.src='/graph/menu2/historic_h.png'\" src=\"/graph/menu2/historic.png\" style=\"height:17px;\"/></a>,\n",
       " <a href=\"https://www.mtgtop8.com/format?f=ST\"><img id=\"menu_standard\" onmouseout=\"this.src='/graph/menu2/standard.png'\" onmouseover=\"this.src='/graph/menu2/standard_h.png'\" src=\"/graph/menu2/standard.png\" style=\"height:17px;\"/></a>,\n",
       " <a href=\"https://www.mtgtop8.com/format?f=EDH\"><img id=\"menu_commander\" onmouseout=\"this.src='/graph/menu2/commander.png'\" onmouseover=\"this.src='/graph/menu2/commander_h.png'\" src=\"/graph/menu2/commander.png\" style=\"height:17px;\"/></a>,\n",
       " <a href=\"https://www.mtgtop8.com/search\"><img id=\"menu_search\" onmouseout=\"this.src='/graph/menu2/search.png'\" onmouseover=\"this.src='/graph/menu2/search_h.png'\" src=\"/graph/menu2/search.png\" style=\"height:17px;\"/></a>,\n",
       " <a href=\"https://www.mtgtop8.com/submit\"><img id=\"menu_submit\" onmouseout=\"this.src='/graph/menu2/submit.png'\" onmouseover=\"this.src='/graph/menu2/submit_h.png'\" src=\"/graph/menu2/submit.png\" style=\"height:17px;\"/></a>,\n",
       " <a href=\"archetype?a=479&amp;meta=16&amp;f=LE\">Grixis Delver</a>,\n",
       " <a href=\"archetype?a=319&amp;meta=16&amp;f=LE\">Death &amp; Taxes</a>,\n",
       " <a href=\"archetype?a=23&amp;meta=16&amp;f=LE\">Canadian Threshold</a>,\n",
       " <a href=\"archetype?a=213&amp;meta=16&amp;f=LE\">UR Delver</a>,\n",
       " <a href=\"archetype?a=553&amp;meta=16&amp;f=LE\">Eldrazi Aggro</a>,\n",
       " <a href=\"archetype?a=149&amp;meta=16&amp;f=LE\">Delver (Other)</a>,\n",
       " <a href=\"archetype?a=128&amp;meta=16&amp;f=LE\">Maverick</a>,\n",
       " <a href=\"archetype?a=20&amp;meta=16&amp;f=LE\">Burn</a>,\n",
       " <a href=\"archetype?a=18&amp;meta=16&amp;f=LE\">Goblins</a>,\n",
       " <a href=\"archetype?a=19&amp;meta=16&amp;f=LE\">Merfolk</a>,\n",
       " <a href=\"archetype?a=78&amp;meta=16&amp;f=LE\">Dragon Stompy</a>,\n",
       " <a href=\"archetype?a=301&amp;meta=16&amp;f=LE\">Jund</a>,\n",
       " <a href=\"archetype?a=44&amp;meta=16&amp;f=LE\">Bant Aggro</a>,\n",
       " <a href=\"archetype?a=25&amp;meta=16&amp;f=LE\">Zoo</a>,\n",
       " <a href=\"archetype?a=772&amp;meta=16&amp;f=LE\">Death's Shadow</a>,\n",
       " <a href=\"archetype?a=338&amp;meta=16&amp;f=LE\">Patriot Aggro</a>,\n",
       " <a href=\"archetype?a=154&amp;meta=16&amp;f=LE\">MUD</a>,\n",
       " <a href=\"archetype?a=94&amp;meta=16&amp;f=LE\">Affinity</a>,\n",
       " <a href=\"archetype?a=133&amp;meta=16&amp;f=LE\">Pikula</a>,\n",
       " <a href=\"archetype?a=898&amp;meta=16&amp;f=LE\">Ninja</a>,\n",
       " <a href=\"archetype?a=95&amp;meta=16&amp;f=LE\">Slivers</a>,\n",
       " <a href=\"archetype?a=31&amp;meta=16&amp;f=LE\">Survival - Aggro</a>,\n",
       " <a href=\"archetype?a=798&amp;meta=16&amp;f=LE\">Humans</a>,\n",
       " <a href=\"archetype?a=97&amp;meta=16&amp;f=LE\">Weenie White </a>,\n",
       " <a href=\"archetype?a=287&amp;meta=16&amp;f=LE\">Zombi Bombardment</a>,\n",
       " <a href=\"archetype?a=915&amp;meta=16&amp;f=LE\">Esper Vial</a>,\n",
       " <a href=\"archetype?a=237&amp;meta=16&amp;f=LE\">Mono Black Aggro</a>,\n",
       " <a href=\"archetype?a=811&amp;meta=16&amp;f=LE\">Arclight Phoenix</a>,\n",
       " <a href=\"archetype?a=77&amp;meta=16&amp;f=LE\">Faerie Stompy</a>,\n",
       " <a href=\"archetype?a=664&amp;meta=16&amp;f=LE\">Esper Delver</a>,\n",
       " <a href=\"archetype?a=80&amp;meta=16&amp;f=LE\">Eva Green</a>,\n",
       " <a href=\"archetype?a=56&amp;meta=16&amp;f=LE\">Other - Aggro</a>,\n",
       " <a href=\"archetype?a=242&amp;meta=16&amp;f=LE\">UWx Control</a>,\n",
       " <a href=\"archetype?a=172&amp;meta=16&amp;f=LE\">Stoneblade</a>,\n",
       " <a href=\"archetype?a=86&amp;meta=16&amp;f=LE\">BUG Midrange</a>,\n",
       " <a href=\"archetype?a=478&amp;meta=16&amp;f=LE\">Grixis Control</a>,\n",
       " <a href=\"archetype?a=36&amp;meta=16&amp;f=LE\">Lands</a>,\n",
       " <a href=\"archetype?a=24&amp;meta=16&amp;f=LE\">Loam</a>,\n",
       " <a href=\"archetype?a=766&amp;meta=16&amp;f=LE\">4c Control</a>,\n",
       " <a href=\"archetype?a=79&amp;meta=16&amp;f=LE\">The Rock (Junk)</a>,\n",
       " <a href=\"archetype?a=34&amp;meta=16&amp;f=LE\">Landstill</a>,\n",
       " <a href=\"archetype?a=178&amp;meta=16&amp;f=LE\">BUG Control</a>,\n",
       " <a href=\"archetype?a=217&amp;meta=16&amp;f=LE\">Nic Fit </a>,\n",
       " <a href=\"archetype?a=883&amp;meta=16&amp;f=LE\">Bant Control</a>,\n",
       " <a href=\"archetype?a=473&amp;meta=16&amp;f=LE\">Artifacts Blue</a>,\n",
       " <a href=\"archetype?a=88&amp;meta=16&amp;f=LE\">Pox</a>,\n",
       " <a href=\"archetype?a=43&amp;meta=16&amp;f=LE\">Counter Top (no thopter)</a>,\n",
       " <a href=\"archetype?a=37&amp;meta=16&amp;f=LE\">Survival - Control/Combo</a>,\n",
       " <a href=\"archetype?a=81&amp;meta=16&amp;f=LE\">Stax / Mystic Forge</a>,\n",
       " <a href=\"archetype?a=85&amp;meta=16&amp;f=LE\">Dreadstill</a>,\n",
       " <a href=\"archetype?a=168&amp;meta=16&amp;f=LE\">Countertop Thopters</a>,\n",
       " <a href=\"archetype?a=177&amp;meta=16&amp;f=LE\">RUG Order</a>,\n",
       " <a href=\"archetype?a=90&amp;meta=16&amp;f=LE\">Faeries</a>,\n",
       " <a href=\"archetype?a=471&amp;meta=16&amp;f=LE\">Bridgewalkers</a>,\n",
       " <a href=\"archetype?a=126&amp;meta=16&amp;f=LE\">New horizons</a>,\n",
       " <a href=\"archetype?a=61&amp;meta=16&amp;f=LE\">Other - Control</a>,\n",
       " <a href=\"archetype?a=33&amp;meta=16&amp;f=LE\">Show and Tell</a>,\n",
       " <a href=\"archetype?a=35&amp;meta=16&amp;f=LE\">Storm</a>,\n",
       " <a href=\"archetype?a=32&amp;meta=16&amp;f=LE\">Reanimator</a>,\n",
       " <a href=\"archetype?a=38&amp;meta=16&amp;f=LE\">Elves</a>,\n",
       " <a href=\"archetype?a=555&amp;meta=16&amp;f=LE\">Dark Depths</a>,\n",
       " <a href=\"archetype?a=21&amp;meta=16&amp;f=LE\">Dredge</a>,\n",
       " <a href=\"archetype?a=98&amp;meta=16&amp;f=LE\">Infect</a>,\n",
       " <a href=\"archetype?a=376&amp;meta=16&amp;f=LE\">Cloudpost Ramp</a>,\n",
       " <a href=\"archetype?a=87&amp;meta=16&amp;f=LE\">Painter</a>,\n",
       " <a href=\"archetype?a=82&amp;meta=16&amp;f=LE\">Aluren</a>,\n",
       " <a href=\"archetype?a=368&amp;meta=16&amp;f=LE\">Food Griffin</a>,\n",
       " <a href=\"archetype?a=83&amp;meta=16&amp;f=LE\">Belcher</a>,\n",
       " <a href=\"archetype?a=851&amp;meta=16&amp;f=LE\">Hogaak</a>,\n",
       " <a href=\"archetype?a=130&amp;meta=16&amp;f=LE\">High Tide</a>,\n",
       " <a href=\"archetype?a=91&amp;meta=16&amp;f=LE\">Enchantress</a>,\n",
       " <a href=\"archetype?a=773&amp;meta=16&amp;f=LE\">Bomberman</a>,\n",
       " <a href=\"archetype?a=563&amp;meta=16&amp;f=LE\">Mono Red Combo</a>,\n",
       " <a href=\"archetype?a=161&amp;meta=16&amp;f=LE\">Doomsday</a>,\n",
       " <a href=\"archetype?a=96&amp;meta=16&amp;f=LE\">Cephalid Breakfast</a>,\n",
       " <a href=\"archetype?a=162&amp;meta=16&amp;f=LE\">Hive Mind</a>,\n",
       " <a href=\"archetype?a=385&amp;meta=16&amp;f=LE\">All my Spells</a>,\n",
       " <a href=\"archetype?a=893&amp;meta=16&amp;f=LE\">Breach</a>,\n",
       " <a href=\"archetype?a=369&amp;meta=16&amp;f=LE\">Shoal Infect</a>,\n",
       " <a href=\"archetype?a=66&amp;meta=16&amp;f=LE\">Other - Combo</a>,\n",
       " <a href=\"event?e=27777&amp;f=LE\">MTGO Legacy Premier</a>,\n",
       " <a href=\"event?e=27763&amp;f=LE\">MTGO Legacy Premier</a>,\n",
       " <a href=\"event?e=27449&amp;f=LE\">MTGO Legacy Champs</a>,\n",
       " <a href=\"event?e=27313&amp;f=LE\">MTGO Legacy Champ Qual</a>,\n",
       " <a href=\"event?e=27250&amp;f=LE\">4Season  @ Bologna (Italy)</a>,\n",
       " <a href=\"event?e=28388&amp;f=LE\">3000 Wednesday Webcam @ ELD's Time Vault Games</a>,\n",
       " <a href=\"event?e=28357&amp;f=LE\">MTGO Legacy Challenge</a>,\n",
       " <a href=\"event?e=28351&amp;f=LE\">Event @ Dutch Magic Hub</a>,\n",
       " <a href=\"event?e=28365&amp;f=LE\">13ª Liga Chilena @ onlline</a>,\n",
       " <a href=\"event?e=28326&amp;f=LE\">MTGO Legacy League</a>,\n",
       " <a href=\"event?e=28330&amp;f=LE\">Kick EnginesDiscord @ Philippines</a>,\n",
       " <a href=\"event?e=28341&amp;f=LE\">Discord tournament @ MTG Paper Legacy</a>,\n",
       " <a href=\"event?e=28355&amp;f=LE\">PEI Monthly #1 @ Charlottetown (Prince Edward Island, Canada )</a>,\n",
       " <a href=\"event?e=28283&amp;f=LE\">November League Playoffs @ MTG Paper Legacy</a>,\n",
       " <a href=\"event?e=28284&amp;f=LE\">Community League 10.08 @ Gatherling</a>,\n",
       " <a href=\"https://magic.wizards.com/en/game-info/gameplay/formats/legacy\" target=\"_blank\">Legacy Construction Rules</a>,\n",
       " <a href=\"event?e=28306&amp;f=LE\">The Decks to Beat - November '20</a>,\n",
       " <a href=\"event?e=28301&amp;f=LE\">The Rogue Corner - November '20</a>,\n",
       " <a href=\"topcards?f=LE&amp;meta=16\">Would you like to know more ?</a>,\n",
       " <a class=\"white\" href=\"https://www.mtgtop8.com/privacy\">Privacy Policy</a>,\n",
       " <a class=\"white\" href=\"/privacy\">Privacy Policy</a>]"
      ]
     },
     "execution_count": 6,
     "metadata": {},
     "output_type": "execute_result"
    }
   ],
   "source": [
    "soup.find_all(\"a\", href=True)"
   ]
  },
  {
   "cell_type": "code",
   "execution_count": 14,
   "metadata": {
    "execution": {
     "iopub.execute_input": "2020-12-07T20:33:31.554208Z",
     "iopub.status.busy": "2020-12-07T20:33:31.554208Z",
     "iopub.status.idle": "2020-12-07T20:33:31.560208Z",
     "shell.execute_reply": "2020-12-07T20:33:31.560208Z",
     "shell.execute_reply.started": "2020-12-07T20:33:31.554208Z"
    }
   },
   "outputs": [],
   "source": [
    "tables = []\n",
    "for table in soup.find_all(\"table\"):\n",
    "    for subtable in table.find_all(\"table\"):\n",
    "           tables.append(subtable) "
   ]
  },
  {
   "cell_type": "code",
   "execution_count": 18,
   "metadata": {
    "execution": {
     "iopub.execute_input": "2020-12-07T20:33:56.855655Z",
     "iopub.status.busy": "2020-12-07T20:33:56.854655Z",
     "iopub.status.idle": "2020-12-07T20:33:56.864655Z",
     "shell.execute_reply": "2020-12-07T20:33:56.864655Z",
     "shell.execute_reply.started": "2020-12-07T20:33:56.855655Z"
    }
   },
   "outputs": [
    {
     "data": {
      "text/plain": [
       "<table align=\"center\" border=\"0\" class=\"Stable\" width=\"98%\">\n",
       "<tr><td colspan=\"3\"><div align=\"center\" class=\"w_title\">Last 10 events</div></td></tr>\n",
       "<tr class=\"hover_tr\" height=\"30\">\n",
       "<td width=\"70%\"><a href=\"event?e=28424&amp;f=LE\">MTGO Legacy Challenge</a> <img src=\"graph/new.png\"/></td>\n",
       "<td align=\"center\" class=\"O16\" width=\"15%\"><img src=\"/graph/star.png\"/><img src=\"/graph/star.png\"/></td>\n",
       "<td align=\"right\" class=\"S10\" width=\"15%\">06/12/20</td>\n",
       "</tr>\n",
       "<tr class=\"hover_tr\" height=\"30\">\n",
       "<td width=\"70%\"><a href=\"event?e=28427&amp;f=LE\">Kick Engines Discord @ Philippines</a> <img src=\"graph/new.png\"/></td>\n",
       "<td align=\"center\" class=\"O16\" width=\"15%\"><img src=\"/graph/star.png\"/></td>\n",
       "<td align=\"right\" class=\"S10\" width=\"15%\">06/12/20</td>\n",
       "</tr>\n",
       "<tr class=\"hover_tr\" height=\"30\">\n",
       "<td width=\"70%\"><a href=\"event?e=28405&amp;f=LE\">MTGO Legacy League</a> <img src=\"graph/new.png\"/></td>\n",
       "<td align=\"center\" class=\"O16\" width=\"15%\"><img src=\"/graph/star.png\"/></td>\n",
       "<td align=\"right\" class=\"S10\" width=\"15%\">05/12/20</td>\n",
       "</tr>\n",
       "<tr class=\"hover_tr\" height=\"30\">\n",
       "<td width=\"70%\"><a href=\"event?e=28406&amp;f=LE\">MTGO Legacy League</a> <img src=\"graph/new.png\"/></td>\n",
       "<td align=\"center\" class=\"O16\" width=\"15%\"><img src=\"/graph/star.png\"/></td>\n",
       "<td align=\"right\" class=\"S10\" width=\"15%\">05/12/20</td>\n",
       "</tr>\n",
       "<tr class=\"hover_tr\" height=\"30\">\n",
       "<td width=\"70%\"><a href=\"event?e=28407&amp;f=LE\">MTGO Legacy League</a> <img src=\"graph/new.png\"/></td>\n",
       "<td align=\"center\" class=\"O16\" width=\"15%\"><img src=\"/graph/star.png\"/></td>\n",
       "<td align=\"right\" class=\"S10\" width=\"15%\">05/12/20</td>\n",
       "</tr>\n",
       "<tr class=\"hover_tr\" height=\"30\">\n",
       "<td width=\"70%\"><a href=\"event?e=28417&amp;f=LE\">Saturday night event @ Dutch Magic Hub</a> <img src=\"graph/new.png\"/></td>\n",
       "<td align=\"center\" class=\"O16\" width=\"15%\"><img src=\"/graph/star.png\"/></td>\n",
       "<td align=\"right\" class=\"S10\" width=\"15%\">05/12/20</td>\n",
       "</tr>\n",
       "<tr class=\"hover_tr\" height=\"30\">\n",
       "<td width=\"70%\"><a href=\"event?e=28418&amp;f=LE\">Discord Tournament @ MTG Paper Legacy</a> <img src=\"graph/new.png\"/></td>\n",
       "<td align=\"center\" class=\"O16\" width=\"15%\"><img src=\"/graph/star.png\"/></td>\n",
       "<td align=\"right\" class=\"S10\" width=\"15%\">05/12/20</td>\n",
       "</tr>\n",
       "<tr class=\"hover_tr\" height=\"30\">\n",
       "<td width=\"70%\"><a href=\"event?e=28420&amp;f=LE\">Biweekly Event @ Demospel Leuven</a> <img src=\"graph/new.png\"/></td>\n",
       "<td align=\"center\" class=\"O16\" width=\"15%\"><img src=\"/graph/star.png\"/></td>\n",
       "<td align=\"right\" class=\"S10\" width=\"15%\">05/12/20</td>\n",
       "</tr>\n",
       "<tr class=\"hover_tr\" height=\"30\">\n",
       "<td width=\"70%\"><a href=\"event?e=28397&amp;f=LE\">The Lotus Box Octagon @ Dice City Games, LLC</a> <img src=\"graph/new.png\"/></td>\n",
       "<td align=\"center\" class=\"O16\" width=\"15%\"><img src=\"/graph/star.png\"/></td>\n",
       "<td align=\"right\" class=\"S10\" width=\"15%\">04/12/20</td>\n",
       "</tr>\n",
       "<tr class=\"hover_tr\" height=\"30\">\n",
       "<td width=\"70%\"><a href=\"event?e=28382&amp;f=LE\">Community League 10.09 @ Gatherling</a></td>\n",
       "<td align=\"center\" class=\"O16\" width=\"15%\"><img src=\"/graph/star.png\"/></td>\n",
       "<td align=\"right\" class=\"S10\" width=\"15%\">02/12/20</td>\n",
       "</tr>\n",
       "</table>"
      ]
     },
     "execution_count": 18,
     "metadata": {},
     "output_type": "execute_result"
    }
   ],
   "source": [
    "tables[2]"
   ]
  },
  {
   "cell_type": "code",
   "execution_count": null,
   "metadata": {},
   "outputs": [],
   "source": []
  },
  {
   "cell_type": "code",
   "execution_count": null,
   "metadata": {},
   "outputs": [],
   "source": []
  }
 ],
 "metadata": {
  "kernelspec": {
   "display_name": "Python 3",
   "language": "python",
   "name": "python3"
  },
  "language_info": {
   "codemirror_mode": {
    "name": "ipython",
    "version": 3
   },
   "file_extension": ".py",
   "mimetype": "text/x-python",
   "name": "python",
   "nbconvert_exporter": "python",
   "pygments_lexer": "ipython3",
   "version": "3.7.4"
  }
 },
 "nbformat": 4,
 "nbformat_minor": 4
}
