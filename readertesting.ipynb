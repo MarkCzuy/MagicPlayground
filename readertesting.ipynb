{
 "cells": [
  {
   "cell_type": "code",
   "execution_count": 46,
   "metadata": {
    "execution": {
     "iopub.execute_input": "2020-12-23T19:50:58.209079Z",
     "iopub.status.busy": "2020-12-23T19:50:58.209079Z",
     "iopub.status.idle": "2020-12-23T19:50:58.212079Z",
     "shell.execute_reply": "2020-12-23T19:50:58.212079Z",
     "shell.execute_reply.started": "2020-12-23T19:50:58.209079Z"
    }
   },
   "outputs": [],
   "source": [
    "import json\n",
    "import re\n",
    "import pymongo\n",
    "import mysecrets"
   ]
  },
  {
   "cell_type": "code",
   "execution_count": 47,
   "metadata": {
    "execution": {
     "iopub.execute_input": "2020-12-23T19:50:58.841115Z",
     "iopub.status.busy": "2020-12-23T19:50:58.841115Z",
     "iopub.status.idle": "2020-12-23T19:50:58.877117Z",
     "shell.execute_reply": "2020-12-23T19:50:58.877117Z",
     "shell.execute_reply.started": "2020-12-23T19:50:58.841115Z"
    }
   },
   "outputs": [],
   "source": [
    "client = pymongo.MongoClient(mysecrets.URI)\n",
    "db = client[\"Magic-DB\"]\n",
    "collection = db[\"Deck-Collection\"]"
   ]
  },
  {
   "cell_type": "code",
   "execution_count": 1,
   "metadata": {
    "execution": {
     "iopub.execute_input": "2020-12-28T15:06:36.165896Z",
     "iopub.status.busy": "2020-12-28T15:06:36.164896Z",
     "iopub.status.idle": "2020-12-28T15:06:36.169896Z",
     "shell.execute_reply": "2020-12-28T15:06:36.168896Z",
     "shell.execute_reply.started": "2020-12-28T15:06:36.165896Z"
    }
   },
   "outputs": [],
   "source": [
    "#dir(collection)"
   ]
  },
  {
   "cell_type": "code",
   "execution_count": 44,
   "metadata": {
    "execution": {
     "iopub.execute_input": "2020-12-23T15:28:47.670343Z",
     "iopub.status.busy": "2020-12-23T15:28:47.669343Z",
     "iopub.status.idle": "2020-12-23T15:28:47.673344Z",
     "shell.execute_reply": "2020-12-23T15:28:47.673344Z",
     "shell.execute_reply.started": "2020-12-23T15:28:47.670343Z"
    }
   },
   "outputs": [],
   "source": [
    "restr = '{\"url\": /event\\?e=28523/}'"
   ]
  },
  {
   "cell_type": "code",
   "execution_count": 56,
   "metadata": {
    "execution": {
     "iopub.execute_input": "2020-12-23T19:56:21.837589Z",
     "iopub.status.busy": "2020-12-23T19:56:21.837589Z",
     "iopub.status.idle": "2020-12-23T19:56:21.989598Z",
     "shell.execute_reply": "2020-12-23T19:56:21.989598Z",
     "shell.execute_reply.started": "2020-12-23T19:56:21.837589Z"
    }
   },
   "outputs": [
    {
     "data": {
      "text/plain": [
       "<pymongo.results.DeleteResult at 0x2b5bbc0>"
      ]
     },
     "execution_count": 56,
     "metadata": {},
     "output_type": "execute_result"
    }
   ],
   "source": [
    "collection.delete_many({\"_id\": {\"$gt\": 368794}})"
   ]
  },
  {
   "cell_type": "code",
   "execution_count": 55,
   "metadata": {
    "execution": {
     "iopub.execute_input": "2020-12-23T19:54:58.516824Z",
     "iopub.status.busy": "2020-12-23T19:54:58.516824Z",
     "iopub.status.idle": "2020-12-23T19:54:58.531824Z",
     "shell.execute_reply": "2020-12-23T19:54:58.531824Z",
     "shell.execute_reply.started": "2020-12-23T19:54:58.516824Z"
    }
   },
   "outputs": [
    {
     "name": "stderr",
     "output_type": "stream",
     "text": [
      "d:\\users\\kizerk\\python\\github\\magicplayground\\.venv\\lib\\site-packages\\ipykernel_launcher.py:2: DeprecationWarning: count is deprecated. Use Collection.count_documents instead.\n",
      "  \n"
     ]
    },
    {
     "data": {
      "text/plain": [
       "3725"
      ]
     },
     "execution_count": 55,
     "metadata": {},
     "output_type": "execute_result"
    }
   ],
   "source": [
    "#dir(cursor.collection.count_documents)\n",
    "cursor.count()"
   ]
  },
  {
   "cell_type": "code",
   "execution_count": 33,
   "metadata": {
    "execution": {
     "iopub.execute_input": "2020-12-23T15:19:28.439357Z",
     "iopub.status.busy": "2020-12-23T15:19:28.439357Z",
     "iopub.status.idle": "2020-12-23T15:19:28.485360Z",
     "shell.execute_reply": "2020-12-23T15:19:28.485360Z",
     "shell.execute_reply.started": "2020-12-23T15:19:28.439357Z"
    }
   },
   "outputs": [
    {
     "ename": "IndexError",
     "evalue": "no such item for Cursor instance",
     "output_type": "error",
     "traceback": [
      "\u001b[1;31m---------------------------------------------------------------------------\u001b[0m",
      "\u001b[1;31mIndexError\u001b[0m                                Traceback (most recent call last)",
      "\u001b[1;32m<ipython-input-33-42d3c78de11f>\u001b[0m in \u001b[0;36m<module>\u001b[1;34m\u001b[0m\n\u001b[1;32m----> 1\u001b[1;33m \u001b[0mcursor\u001b[0m\u001b[1;33m[\u001b[0m\u001b[1;36m0\u001b[0m\u001b[1;33m]\u001b[0m\u001b[1;33m\u001b[0m\u001b[1;33m\u001b[0m\u001b[0m\n\u001b[0m",
      "\u001b[1;32md:\\users\\kizerk\\python\\github\\magicplayground\\.venv\\lib\\site-packages\\pymongo\\cursor.py\u001b[0m in \u001b[0;36m__getitem__\u001b[1;34m(self, index)\u001b[0m\n\u001b[0;32m    647\u001b[0m             \u001b[1;32mfor\u001b[0m \u001b[0mdoc\u001b[0m \u001b[1;32min\u001b[0m \u001b[0mclone\u001b[0m\u001b[1;33m:\u001b[0m\u001b[1;33m\u001b[0m\u001b[1;33m\u001b[0m\u001b[0m\n\u001b[0;32m    648\u001b[0m                 \u001b[1;32mreturn\u001b[0m \u001b[0mdoc\u001b[0m\u001b[1;33m\u001b[0m\u001b[1;33m\u001b[0m\u001b[0m\n\u001b[1;32m--> 649\u001b[1;33m             \u001b[1;32mraise\u001b[0m \u001b[0mIndexError\u001b[0m\u001b[1;33m(\u001b[0m\u001b[1;34m\"no such item for Cursor instance\"\u001b[0m\u001b[1;33m)\u001b[0m\u001b[1;33m\u001b[0m\u001b[1;33m\u001b[0m\u001b[0m\n\u001b[0m\u001b[0;32m    650\u001b[0m         raise TypeError(\"index %r cannot be applied to Cursor \"\n\u001b[0;32m    651\u001b[0m                         \"instances\" % index)\n",
      "\u001b[1;31mIndexError\u001b[0m: no such item for Cursor instance"
     ]
    }
   ],
   "source": [
    "cursor[0]"
   ]
  },
  {
   "cell_type": "code",
   "execution_count": null,
   "metadata": {},
   "outputs": [],
   "source": []
  }
 ],
 "metadata": {
  "kernelspec": {
   "display_name": "Python 3",
   "language": "python",
   "name": "python3"
  },
  "language_info": {
   "codemirror_mode": {
    "name": "ipython",
    "version": 3
   },
   "file_extension": ".py",
   "mimetype": "text/x-python",
   "name": "python",
   "nbconvert_exporter": "python",
   "pygments_lexer": "ipython3",
   "version": "3.7.4"
  }
 },
 "nbformat": 4,
 "nbformat_minor": 4
}
