{
 "cells": [
  {
   "cell_type": "code",
   "execution_count": 1,
   "metadata": {
    "execution": {
     "iopub.execute_input": "2020-12-28T14:55:13.474848Z",
     "iopub.status.busy": "2020-12-28T14:55:13.474848Z",
     "iopub.status.idle": "2020-12-28T14:55:13.603855Z",
     "shell.execute_reply": "2020-12-28T14:55:13.603855Z",
     "shell.execute_reply.started": "2020-12-28T14:55:13.474848Z"
    }
   },
   "outputs": [],
   "source": [
    "import pymongo\n",
    "import mysecrets\n",
    "client = pymongo.MongoClient(mysecrets.URI)\n",
    "db = client[\"Magic-DB\"]\n",
    "collection = db[\"Deck-Collection\"]"
   ]
  },
  {
   "cell_type": "code",
   "execution_count": 9,
   "metadata": {
    "execution": {
     "iopub.execute_input": "2020-12-28T15:08:32.370542Z",
     "iopub.status.busy": "2020-12-28T15:08:32.370542Z",
     "iopub.status.idle": "2020-12-28T15:08:32.375543Z",
     "shell.execute_reply": "2020-12-28T15:08:32.375543Z",
     "shell.execute_reply.started": "2020-12-28T15:08:32.370542Z"
    }
   },
   "outputs": [
    {
     "data": {
      "text/plain": [
       "['_BaseObject__codec_options',\n",
       " '_BaseObject__read_preference',\n",
       " '_BaseObject__write_concern',\n",
       " '_BaseObject__read_concern',\n",
       " '_Collection__database',\n",
       " '_Collection__name',\n",
       " '_Collection__full_name',\n",
       " '_Collection__write_response_codec_options',\n",
       " '__module__',\n",
       " '__doc__',\n",
       " '__init__',\n",
       " '_socket_for_reads',\n",
       " '_socket_for_writes',\n",
       " '_command',\n",
       " '_Collection__create',\n",
       " '__getattr__',\n",
       " '__getitem__',\n",
       " '__repr__',\n",
       " '__eq__',\n",
       " '__ne__',\n",
       " 'full_name',\n",
       " 'name',\n",
       " 'database',\n",
       " 'with_options',\n",
       " 'initialize_unordered_bulk_op',\n",
       " 'initialize_ordered_bulk_op',\n",
       " 'bulk_write',\n",
       " '_legacy_write',\n",
       " '_insert_one',\n",
       " '_insert',\n",
       " 'insert_one',\n",
       " 'insert_many',\n",
       " '_update',\n",
       " '_update_retryable',\n",
       " 'replace_one',\n",
       " 'update_one',\n",
       " 'update_many',\n",
       " 'drop',\n",
       " '_delete',\n",
       " '_delete_retryable',\n",
       " 'delete_one',\n",
       " 'delete_many',\n",
       " 'find_one',\n",
       " 'find',\n",
       " 'find_raw_batches',\n",
       " 'parallel_scan',\n",
       " '_count',\n",
       " '_aggregate_one_result',\n",
       " 'estimated_document_count',\n",
       " 'count_documents',\n",
       " 'count',\n",
       " 'create_indexes',\n",
       " '_Collection__create_indexes',\n",
       " 'create_index',\n",
       " 'ensure_index',\n",
       " 'drop_indexes',\n",
       " 'drop_index',\n",
       " 'reindex',\n",
       " 'list_indexes',\n",
       " 'index_information',\n",
       " 'options',\n",
       " '_aggregate',\n",
       " 'aggregate',\n",
       " 'aggregate_raw_batches',\n",
       " 'watch',\n",
       " 'group',\n",
       " 'rename',\n",
       " 'distinct',\n",
       " '_map_reduce',\n",
       " 'map_reduce',\n",
       " 'inline_map_reduce',\n",
       " '_write_concern_for_cmd',\n",
       " '_Collection__find_and_modify',\n",
       " 'find_one_and_delete',\n",
       " 'find_one_and_replace',\n",
       " 'find_one_and_update',\n",
       " 'save',\n",
       " 'insert',\n",
       " 'update',\n",
       " 'remove',\n",
       " 'find_and_modify',\n",
       " '__iter__',\n",
       " '__next__',\n",
       " 'next',\n",
       " '__call__',\n",
       " '__hash__',\n",
       " 'codec_options',\n",
       " 'write_concern',\n",
       " '_write_concern_for',\n",
       " 'read_preference',\n",
       " '_read_preference_for',\n",
       " 'read_concern',\n",
       " '__dict__',\n",
       " '__weakref__',\n",
       " '__str__',\n",
       " '__getattribute__',\n",
       " '__setattr__',\n",
       " '__delattr__',\n",
       " '__lt__',\n",
       " '__le__',\n",
       " '__gt__',\n",
       " '__ge__',\n",
       " '__new__',\n",
       " '__reduce_ex__',\n",
       " '__reduce__',\n",
       " '__subclasshook__',\n",
       " '__init_subclass__',\n",
       " '__format__',\n",
       " '__sizeof__',\n",
       " '__dir__',\n",
       " '__class__']"
      ]
     },
     "execution_count": 9,
     "metadata": {},
     "output_type": "execute_result"
    }
   ],
   "source": [
    "collection.__dir__()"
   ]
  },
  {
   "cell_type": "code",
   "execution_count": 8,
   "metadata": {
    "execution": {
     "iopub.execute_input": "2020-12-28T15:07:49.026063Z",
     "iopub.status.busy": "2020-12-28T15:07:49.026063Z",
     "iopub.status.idle": "2020-12-28T15:07:49.160071Z",
     "shell.execute_reply": "2020-12-28T15:07:49.160071Z",
     "shell.execute_reply.started": "2020-12-28T15:07:49.026063Z"
    }
   },
   "outputs": [
    {
     "name": "stderr",
     "output_type": "stream",
     "text": [
      "d:\\users\\kizerk\\python\\github\\magicplayground\\.venv\\lib\\site-packages\\ipykernel_launcher.py:1: DeprecationWarning: count is deprecated. Use Collection.count_documents instead.\n",
      "  \"\"\"Entry point for launching an IPython kernel.\n"
     ]
    },
    {
     "data": {
      "text/plain": [
       "32085"
      ]
     },
     "execution_count": 8,
     "metadata": {},
     "output_type": "execute_result"
    }
   ],
   "source": [
    "collection.find({}).count()"
   ]
  },
  {
   "cell_type": "code",
   "execution_count": 11,
   "metadata": {
    "execution": {
     "iopub.execute_input": "2020-12-28T15:13:43.894360Z",
     "iopub.status.busy": "2020-12-28T15:13:43.894360Z",
     "iopub.status.idle": "2020-12-28T15:13:44.965422Z",
     "shell.execute_reply": "2020-12-28T15:13:44.965422Z",
     "shell.execute_reply.started": "2020-12-28T15:13:43.894360Z"
    }
   },
   "outputs": [],
   "source": [
    "#Updated all stored lists to include the format - Legacy\n",
    "#result = collection.update_many({}, {\"$set\": {\"format\": \"Legacy\"}})"
   ]
  },
  {
   "cell_type": "code",
   "execution_count": 12,
   "metadata": {
    "execution": {
     "iopub.execute_input": "2020-12-28T15:14:02.123403Z",
     "iopub.status.busy": "2020-12-28T15:14:02.123403Z",
     "iopub.status.idle": "2020-12-28T15:14:02.127403Z",
     "shell.execute_reply": "2020-12-28T15:14:02.127403Z",
     "shell.execute_reply.started": "2020-12-28T15:14:02.123403Z"
    }
   },
   "outputs": [
    {
     "data": {
      "text/plain": [
       "32085"
      ]
     },
     "execution_count": 12,
     "metadata": {},
     "output_type": "execute_result"
    }
   ],
   "source": [
    "result.matched_count"
   ]
  },
  {
   "cell_type": "code",
   "execution_count": 13,
   "metadata": {
    "execution": {
     "iopub.execute_input": "2020-12-28T15:14:15.595174Z",
     "iopub.status.busy": "2020-12-28T15:14:15.594174Z",
     "iopub.status.idle": "2020-12-28T15:14:15.598174Z",
     "shell.execute_reply": "2020-12-28T15:14:15.598174Z",
     "shell.execute_reply.started": "2020-12-28T15:14:15.595174Z"
    }
   },
   "outputs": [
    {
     "data": {
      "text/plain": [
       "32085"
      ]
     },
     "execution_count": 13,
     "metadata": {},
     "output_type": "execute_result"
    }
   ],
   "source": [
    "result.modified_count"
   ]
  },
  {
   "cell_type": "code",
   "execution_count": null,
   "metadata": {},
   "outputs": [],
   "source": []
  }
 ],
 "metadata": {
  "kernelspec": {
   "display_name": "Python 3",
   "language": "python",
   "name": "python3"
  },
  "language_info": {
   "codemirror_mode": {
    "name": "ipython",
    "version": 3
   },
   "file_extension": ".py",
   "mimetype": "text/x-python",
   "name": "python",
   "nbconvert_exporter": "python",
   "pygments_lexer": "ipython3",
   "version": "3.7.4"
  }
 },
 "nbformat": 4,
 "nbformat_minor": 4
}
