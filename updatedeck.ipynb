{
 "cells": [
  {
   "cell_type": "code",
   "execution_count": 1,
   "metadata": {
    "execution": {
     "iopub.execute_input": "2020-12-29T16:51:04.188474Z",
     "iopub.status.busy": "2020-12-29T16:51:04.188474Z",
     "iopub.status.idle": "2020-12-29T16:51:04.313481Z",
     "shell.execute_reply": "2020-12-29T16:51:04.313481Z",
     "shell.execute_reply.started": "2020-12-29T16:51:04.188474Z"
    }
   },
   "outputs": [],
   "source": [
    "import pymongo\n",
    "import mysecrets\n",
    "client = pymongo.MongoClient(mysecrets.URI)\n",
    "db = client[\"Magic-DB\"]\n",
    "collection = db[\"Deck-Collection\"]"
   ]
  },
  {
   "cell_type": "code",
   "execution_count": 6,
   "metadata": {
    "execution": {
     "iopub.execute_input": "2020-12-29T17:01:03.729765Z",
     "iopub.status.busy": "2020-12-29T17:01:03.728765Z",
     "iopub.status.idle": "2020-12-29T17:01:03.730765Z",
     "shell.execute_reply": "2020-12-29T17:01:03.730765Z",
     "shell.execute_reply.started": "2020-12-29T17:01:03.729765Z"
    }
   },
   "outputs": [],
   "source": [
    "#collection.__dir__()"
   ]
  },
  {
   "cell_type": "code",
   "execution_count": 13,
   "metadata": {
    "execution": {
     "iopub.execute_input": "2020-12-29T18:09:01.298989Z",
     "iopub.status.busy": "2020-12-29T18:09:01.298989Z",
     "iopub.status.idle": "2020-12-29T18:09:01.301989Z",
     "shell.execute_reply": "2020-12-29T18:09:01.301989Z",
     "shell.execute_reply.started": "2020-12-29T18:09:01.298989Z"
    }
   },
   "outputs": [],
   "source": [
    "all_entries = collection.find({})"
   ]
  },
  {
   "cell_type": "code",
   "execution_count": 14,
   "metadata": {
    "execution": {
     "iopub.execute_input": "2020-12-29T18:09:02.092034Z",
     "iopub.status.busy": "2020-12-29T18:09:02.092034Z",
     "iopub.status.idle": "2020-12-29T18:09:02.109035Z",
     "shell.execute_reply": "2020-12-29T18:09:02.109035Z",
     "shell.execute_reply.started": "2020-12-29T18:09:02.092034Z"
    }
   },
   "outputs": [
    {
     "name": "stderr",
     "output_type": "stream",
     "text": [
      "d:\\users\\kizerk\\python\\github\\magicplayground\\.venv\\lib\\site-packages\\ipykernel_launcher.py:1: DeprecationWarning: count is deprecated. Use Collection.count_documents instead.\n",
      "  \"\"\"Entry point for launching an IPython kernel.\n"
     ]
    },
    {
     "data": {
      "text/plain": [
       "32093"
      ]
     },
     "execution_count": 14,
     "metadata": {},
     "output_type": "execute_result"
    }
   ],
   "source": [
    "all_entries.count()"
   ]
  },
  {
   "cell_type": "code",
   "execution_count": 25,
   "metadata": {
    "execution": {
     "iopub.execute_input": "2020-12-29T18:17:24.940796Z",
     "iopub.status.busy": "2020-12-29T18:17:24.940796Z",
     "iopub.status.idle": "2020-12-29T18:17:24.945796Z",
     "shell.execute_reply": "2020-12-29T18:17:24.943796Z",
     "shell.execute_reply.started": "2020-12-29T18:17:24.940796Z"
    }
   },
   "outputs": [],
   "source": [
    "first_places = collection.find({\"place\":\"1\"})"
   ]
  },
  {
   "cell_type": "code",
   "execution_count": 37,
   "metadata": {
    "execution": {
     "iopub.execute_input": "2020-12-29T18:30:44.367520Z",
     "iopub.status.busy": "2020-12-29T18:30:44.366520Z",
     "iopub.status.idle": "2020-12-29T18:30:44.369520Z",
     "shell.execute_reply": "2020-12-29T18:30:44.369520Z",
     "shell.execute_reply.started": "2020-12-29T18:30:44.367520Z"
    }
   },
   "outputs": [],
   "source": [
    "sorted_by_cards = all_entries.sort(\"number_of_cards\",-1)"
   ]
  },
  {
   "cell_type": "code",
   "execution_count": 40,
   "metadata": {
    "execution": {
     "iopub.execute_input": "2020-12-29T18:34:17.174692Z",
     "iopub.status.busy": "2020-12-29T18:34:17.174692Z",
     "iopub.status.idle": "2020-12-29T18:34:17.236696Z",
     "shell.execute_reply": "2020-12-29T18:34:17.236696Z",
     "shell.execute_reply.started": "2020-12-29T18:34:17.174692Z"
    }
   },
   "outputs": [
    {
     "data": {
      "text/plain": [
       "{'_id': 426128,\n",
       " 'archtype': 'Yorion Maverick',\n",
       " 'date': '20/12/20',\n",
       " 'deck_list': {'maindeck': {'Wooded Foothills': 4,\n",
       "   'Windswept Heath': 4,\n",
       "   'Wasteland': 3,\n",
       "   'Vesuva': 1,\n",
       "   'Verdant Catacombs': 1,\n",
       "   'Valakut, the Molten Pinnacle': 1,\n",
       "   'Temple Garden': 1,\n",
       "   'Taiga': 1,\n",
       "   'Snow-Covered Plains': 1,\n",
       "   'Snow-Covered Forest': 1,\n",
       "   'Savannah': 2,\n",
       "   'Plateau': 1,\n",
       "   'Plains': 1,\n",
       "   'Maze of Ith': 1,\n",
       "   'Karakas': 1,\n",
       "   'Horizon Canopy': 1,\n",
       "   'Forest': 1,\n",
       "   'Flagstones of Trokair': 4,\n",
       "   'Field of the Dead': 2,\n",
       "   'Dryad Arbor': 1,\n",
       "   'Bojuka Bog': 1,\n",
       "   'Blast Zone': 1,\n",
       "   'Ancient Tomb': 1,\n",
       "   'Sylvan Library': 2,\n",
       "   'Swords to Plowshares': 4,\n",
       "   'Path to Exile': 2,\n",
       "   'Once Upon a Time': 4,\n",
       "   'Crop Rotation': 2,\n",
       "   \"Sevinne's Reclamation\": 1,\n",
       "   \"Green Sun's Zenith\": 4,\n",
       "   'Yasharn, Implacable Earth': 1,\n",
       "   'Titania, Protector of Argoth': 1,\n",
       "   'Thalia, Guardian of Thraben': 4,\n",
       "   'Skyclave Apparition': 3,\n",
       "   'Scute Swarm': 1,\n",
       "   'Scavenging Ooze': 1,\n",
       "   'Renegade Rallier': 1,\n",
       "   'Ramunap Excavator': 1,\n",
       "   'Primeval Titan': 1,\n",
       "   'Knight of Autumn': 1,\n",
       "   'Gaddock Teeg': 1,\n",
       "   'Elvish Reclaimer': 4,\n",
       "   'Dryad of the Ilysian Grove': 3,\n",
       "   'Collector Ouphe': 1,\n",
       "   'Scryb Ranger': 1,\n",
       "   'Knight of the Reliquary': 1},\n",
       "  'sideboard': {'Yorion, Sky Nomad': 1,\n",
       "   'Tireless Tracker': 1,\n",
       "   'Surgical Extraction': 2,\n",
       "   'Faerie Macabre': 2,\n",
       "   'Deafening Silence': 3,\n",
       "   'Red Elemental Blast': 2,\n",
       "   'Shalai, Voice of Plenty': 1,\n",
       "   'Engineered Explosives': 2,\n",
       "   'Knight of the Reliquary': 1}},\n",
       " 'event': 'BBQ du dÃ©confinement @ Paris',\n",
       " 'place': '3-4',\n",
       " 'player': 'Mike Boulinguiez',\n",
       " 'tournement_size': '1',\n",
       " 'url': 'event?e=28626&d=426128&f=LE',\n",
       " 'format': 'Legacy',\n",
       " 'number_of_cards': 96}"
      ]
     },
     "execution_count": 40,
     "metadata": {},
     "output_type": "execute_result"
    }
   ],
   "source": [
    "sorted_by_cards[3]"
   ]
  },
  {
   "cell_type": "code",
   "execution_count": 12,
   "metadata": {
    "execution": {
     "iopub.execute_input": "2020-12-29T17:18:03.247078Z",
     "iopub.status.busy": "2020-12-29T17:18:03.247078Z",
     "iopub.status.idle": "2020-12-29T17:26:35.535380Z",
     "shell.execute_reply": "2020-12-29T17:26:35.535380Z",
     "shell.execute_reply.started": "2020-12-29T17:18:03.247078Z"
    }
   },
   "outputs": [],
   "source": [
    "#Updating all stored lists to include a total count of cards\n",
    "\"\"\"\n",
    "for deck in all_entries:\n",
    "    total_cards = sum(deck[\"deck_list\"][\"maindeck\"].values())+sum(deck[\"deck_list\"][\"sideboard\"].values())\n",
    "    collection.update_one(deck, {\"$set\": {\"number_of_cards\": total_cards}})\n",
    "\"\"\""
   ]
  },
  {
   "cell_type": "code",
   "execution_count": 8,
   "metadata": {
    "execution": {
     "iopub.execute_input": "2020-12-29T17:16:36.848137Z",
     "iopub.status.busy": "2020-12-29T17:16:36.848137Z",
     "iopub.status.idle": "2020-12-29T17:16:36.877138Z",
     "shell.execute_reply": "2020-12-29T17:16:36.877138Z",
     "shell.execute_reply.started": "2020-12-29T17:16:36.848137Z"
    }
   },
   "outputs": [
    {
     "data": {
      "text/plain": [
       "75"
      ]
     },
     "execution_count": 8,
     "metadata": {},
     "output_type": "execute_result"
    }
   ],
   "source": [
    "#sum(all_entries[0][\"deck_list\"][\"maindeck\"].values())+sum(all_entries[0][\"deck_list\"][\"sideboard\"].values())"
   ]
  },
  {
   "cell_type": "code",
   "execution_count": 11,
   "metadata": {
    "execution": {
     "iopub.execute_input": "2020-12-28T15:13:43.894360Z",
     "iopub.status.busy": "2020-12-28T15:13:43.894360Z",
     "iopub.status.idle": "2020-12-28T15:13:44.965422Z",
     "shell.execute_reply": "2020-12-28T15:13:44.965422Z",
     "shell.execute_reply.started": "2020-12-28T15:13:43.894360Z"
    }
   },
   "outputs": [],
   "source": [
    "#Updated all stored lists to include the format - Legacy\n",
    "#result = collection.update_many({}, {\"$set\": {\"format\": \"Legacy\"}})"
   ]
  },
  {
   "cell_type": "code",
   "execution_count": null,
   "metadata": {},
   "outputs": [],
   "source": [
    "#Updating all stored lists to include a total count of cards\n"
   ]
  },
  {
   "cell_type": "code",
   "execution_count": 12,
   "metadata": {
    "execution": {
     "iopub.execute_input": "2020-12-28T15:14:02.123403Z",
     "iopub.status.busy": "2020-12-28T15:14:02.123403Z",
     "iopub.status.idle": "2020-12-28T15:14:02.127403Z",
     "shell.execute_reply": "2020-12-28T15:14:02.127403Z",
     "shell.execute_reply.started": "2020-12-28T15:14:02.123403Z"
    }
   },
   "outputs": [
    {
     "data": {
      "text/plain": [
       "32085"
      ]
     },
     "execution_count": 12,
     "metadata": {},
     "output_type": "execute_result"
    }
   ],
   "source": [
    "result.matched_count"
   ]
  },
  {
   "cell_type": "code",
   "execution_count": 13,
   "metadata": {
    "execution": {
     "iopub.execute_input": "2020-12-28T15:14:15.595174Z",
     "iopub.status.busy": "2020-12-28T15:14:15.594174Z",
     "iopub.status.idle": "2020-12-28T15:14:15.598174Z",
     "shell.execute_reply": "2020-12-28T15:14:15.598174Z",
     "shell.execute_reply.started": "2020-12-28T15:14:15.595174Z"
    }
   },
   "outputs": [
    {
     "data": {
      "text/plain": [
       "32085"
      ]
     },
     "execution_count": 13,
     "metadata": {},
     "output_type": "execute_result"
    }
   ],
   "source": [
    "result.modified_count"
   ]
  },
  {
   "cell_type": "code",
   "execution_count": null,
   "metadata": {},
   "outputs": [],
   "source": []
  }
 ],
 "metadata": {
  "kernelspec": {
   "display_name": "Python 3",
   "language": "python",
   "name": "python3"
  },
  "language_info": {
   "codemirror_mode": {
    "name": "ipython",
    "version": 3
   },
   "file_extension": ".py",
   "mimetype": "text/x-python",
   "name": "python",
   "nbconvert_exporter": "python",
   "pygments_lexer": "ipython3",
   "version": "3.7.4"
  }
 },
 "nbformat": 4,
 "nbformat_minor": 4
}
